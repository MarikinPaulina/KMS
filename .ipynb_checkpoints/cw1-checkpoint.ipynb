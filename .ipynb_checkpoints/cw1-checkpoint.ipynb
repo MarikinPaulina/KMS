{
 "cells": [
  {
   "cell_type": "code",
   "execution_count": 1,
   "metadata": {},
   "outputs": [],
   "source": [
    "import numpy as np\n",
    "import matplotlib.pyplot as plt\n",
    "import yaml\n",
    "import sys\n",
    "from scipy import constants\n",
    "# import KMS\n",
    "from tqdm import tqdm\n",
    "import numba"
   ]
  },
  {
   "cell_type": "code",
   "execution_count": 2,
   "metadata": {},
   "outputs": [],
   "source": [
    "name = \"extreme_9000\"\n",
    "with open(name+\"/params.yaml\") as f:\n",
    "    param = yaml.load(f, Loader=yaml.FullLoader)\n",
    "    \n",
    "xyz_name = name + '/positions.xyz'\n",
    "csv_name = name + '/output_data.csv'\n",
    "atom = 'Ar'\n",
    "param['f'] = float(param['f'])\n",
    "param['tau'] = float(param['tau'])\n",
    "\n",
    "k = constants.k*constants.N_A *1e-3"
   ]
  },
  {
   "cell_type": "code",
   "execution_count": 3,
   "metadata": {},
   "outputs": [],
   "source": [
    "N = param['n']**3\n",
    "\n",
    "b_0 = np.array((param['a'],0,0))\n",
    "b_1 = np.array((param['a']/2,param['a']*np.sqrt(3)/2,0))\n",
    "b_2 = np.array((param['a']/2,param['a']*np.sqrt(3)/6,param['a']*np.sqrt(2/3)))\n",
    "\n",
    "R = np.zeros((N,3))\n",
    "\n",
    "for i0 in range(param['n']):\n",
    "    for i1 in range(param['n']):\n",
    "        for i2 in range(param['n']):\n",
    "            i = i0 + i1*param['n'] + i2*param['n']**2\n",
    "            R[i] = (i0 - (param['n']-1)/2)*b_0 + (i1 - (param['n']-1)/2)*b_1 + (i2 - (param['n']-1)/2)*b_2"
   ]
  },
  {
   "cell_type": "code",
   "execution_count": 4,
   "metadata": {},
   "outputs": [],
   "source": [
    "with open(xyz_name,'w') as f:\n",
    "    f.write(f'{N}\\n')\n",
    "    for i, r in enumerate(R,1):\n",
    "        f.write(f'\\n{atom} {r[0]} {r[1]} {r[2]}')\n",
    "        \n",
    "with open(csv_name,'w') as f:\n",
    "    f.write('t,H,V,T,P\\n')"
   ]
  },
  {
   "cell_type": "markdown",
   "metadata": {},
   "source": [
    "N = 5\n",
    "L = 2.3\n",
    "T = 0\n",
    "V = -669.29"
   ]
  },
  {
   "cell_type": "code",
   "execution_count": 5,
   "metadata": {},
   "outputs": [],
   "source": [
    "@numba.njit\n",
    "def force_potential_pressure(R, F, L, f, e, Rparam):\n",
    "    V = 0.0\n",
    "    P = 0.0\n",
    "    for i in range(R.shape[0]):\n",
    "        r = np.linalg.norm(R[i])\n",
    "        V_s = 0.0 if r < L else 0.5*f*(r-L)**2\n",
    "        V += V_s\n",
    "        F[i] = np.array((0.,0.,0.)) if r < L else f*(L-r)*R[i]/r\n",
    "        P += np.linalg.norm(F[i])/(4*np.pi*L**2)\n",
    "        for j in range(i):     # TODO\n",
    "            r = np.linalg.norm(R[i] - R[j])\n",
    "            V_p = e*((Rparam/r)**12 - 2*(Rparam/r)**6)\n",
    "            V += V_p\n",
    "            F_p = 12*e*((Rparam/r)**12 - (Rparam/r)**6)*(R[i]-R[j])/(r**2)\n",
    "            F[i] += F_p\n",
    "            F[j] -= F_p\n",
    "\n",
    "    return F,V,P"
   ]
  },
  {
   "cell_type": "code",
   "execution_count": 6,
   "metadata": {},
   "outputs": [
    {
     "data": {
      "image/png": "[encoded data removed]",
      "text/plain": [
       "<Figure size 432x288 with 1 Axes>"
      ]
     },
     "metadata": {
      "needs_background": "light"
     },
     "output_type": "display_data"
    }
   ],
   "source": [
    "E_kin = -0.5*k*param['T_0']*np.log(np.random.random(size=(N,3)))\n",
    "p = np.sqrt(2*param['m']*E_kin) * np.random.choice((-1,1), size=(N,3))\n",
    "p = p - p.mean(0)\n",
    "kopytko =  plt.hist(p[:,0],bins=30)   # czy na pewno gauss powinien być z wyciętym zerem?"
   ]
  },
  {
   "cell_type": "code",
   "execution_count": null,
   "metadata": {},
   "outputs": [
    {
     "name": "stderr",
     "output_type": "stream",
     "text": [
      " 47%|████▋     | 4700/10100 [01:34<01:45, 51.36it/s]"
     ]
    }
   ],
   "source": [
    "F = np.zeros((N,3),dtype=float)\n",
    "F, V, P = force_potential_pressure(R, F, param['L'], param['f'], param['e'], param['R'])\n",
    "T_, P_, H_, ite, t = 0, 0, 0, 0, 0\n",
    "V\n",
    "\n",
    "with open(xyz_name,'a') as xyz:\n",
    "    with open(csv_name,'a') as char:\n",
    "        for s in tqdm(range(param['S_o']+param['S_d'])):\n",
    "            t += param['tau']\n",
    "            p_half = p + F*param['tau']*0.5\n",
    "            R = R + p_half*param['tau']/param['m']\n",
    "            F, V, P = force_potential_pressure(R, F, param['L'], param['f'], param['e'], param['R'])\n",
    "            p = p_half + F*param['tau']*0.5\n",
    "                        \n",
    "            E_k = (p**2).sum()/(2*param['m'])\n",
    "            T = E_k*2/(3*N*k)\n",
    "            H = E_k + V\n",
    "            \n",
    "            if s%param['S_out'] == 0:\n",
    "                char.write(f'{t},{H},{V},{T},{P}\\n')\n",
    "            \n",
    "            if s%param['S_xyz'] == 0:\n",
    "                xyz.write(f'\\n{N}\\n')\n",
    "                for i, r in enumerate(R,1):\n",
    "                    wpisz = f'\\n{atom} {r[0]} {r[1]} {r[2]}' if i != N-1 else f'\\n{atom} {r[0]} {r[1]} {r[2]}'\n",
    "                    xyz.write(wpisz)\n",
    "            \n",
    "            if s >= param['S_o']:\n",
    "                T_ += T\n",
    "                P_ += P\n",
    "                H_ += H\n",
    "                \n",
    "        T_ /= param['S_d']\n",
    "        P_ /= param['S_d']\n",
    "        H_ /= param['S_d']\n",
    "        "
   ]
  },
  {
   "cell_type": "code",
   "execution_count": null,
   "metadata": {},
   "outputs": [],
   "source": [
    "kopytko =  plt.hist(p[:,0],bins=30)"
   ]
  },
  {
   "cell_type": "code",
   "execution_count": null,
   "metadata": {},
   "outputs": [],
   "source": [
    "import pandas as pd\n",
    "\n",
    "data = pd.read_csv(csv_name)"
   ]
  },
  {
   "cell_type": "code",
   "execution_count": null,
   "metadata": {},
   "outputs": [],
   "source": [
    "plt.plot(data['t'],data['V'])\n",
    "plt.xlabel('t[ps]')\n",
    "plt.ylabel('V')\n",
    "plt.grid()\n",
    "plt.title(f\"Wykres energii potencjalnej przy T(0)={param['T_0']}\")\n",
    "plt.savefig(f\"{name}/V_{param['T_0']}.png\",dpi=300)"
   ]
  },
  {
   "cell_type": "code",
   "execution_count": null,
   "metadata": {},
   "outputs": [],
   "source": [
    "plt.plot(data['t'],data['H'])\n",
    "plt.xlabel('t[ps]')\n",
    "plt.ylabel('H')\n",
    "plt.grid()\n",
    "plt.title(f\"Wykres energii przy T(0)={param['T_0']}\")\n",
    "plt.savefig(f\"{name}/H_{param['T_0']}.png\",dpi=300)"
   ]
  },
  {
   "cell_type": "code",
   "execution_count": null,
   "metadata": {},
   "outputs": [],
   "source": [
    "plt.plot(data['t'],data['T'])\n",
    "plt.xlabel('t[ps]')\n",
    "plt.ylabel('T')\n",
    "plt.grid()\n",
    "plt.title(f\"Wykres temperatury przy T(0)={param['T_0']}\")\n",
    "plt.savefig(f\"{name}/T_{param['T_0']}.png\",dpi=300)"
   ]
  },
  {
   "cell_type": "code",
   "execution_count": null,
   "metadata": {},
   "outputs": [],
   "source": [
    "plt.plot(data['t'],data['P'])\n",
    "plt.xlabel('t[ps]')\n",
    "plt.ylabel('P')\n",
    "plt.grid()\n",
    "plt.title(f\"Wykres ciśnienia przy T(0)={param['T_0']}\")\n",
    "plt.savefig(f\"{name}/P_{param['T_0']}.png\",dpi=300)"
   ]
  }
 ],
 "metadata": {
  "kernelspec": {
   "display_name": "Python 3",
   "language": "python",
   "name": "python3"
  },
  "language_info": {
   "codemirror_mode": {
    "name": "ipython",
    "version": 3
   },
   "file_extension": ".py",
   "mimetype": "text/x-python",
   "name": "python",
   "nbconvert_exporter": "python",
   "pygments_lexer": "ipython3",
   "version": "3.6.7"
  }
 },
 "nbformat": 4,
 "nbformat_minor": 2
}
